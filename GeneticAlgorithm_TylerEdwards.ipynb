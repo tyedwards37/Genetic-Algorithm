{
  "cells": [
    {
      "cell_type": "markdown",
      "metadata": {
        "id": "2E1XYmT4RfYn"
      },
      "source": [
        "## CPSC 390 Project 2\n",
        "## by `Tyler Edwards`\n",
        "## Using Genetic Algorithm\n",
        "\n",
        "\n"
      ]
    },
    {
      "cell_type": "code",
      "execution_count": 1,
      "metadata": {
        "id": "SHNlcRkORYPA"
      },
      "outputs": [],
      "source": [
        "# Code cell 1: Find the maximum value for the function: f(x, y) = sin(sqrt(x^2 + y^2)) with boundaries: -6 <= x, y <= 6\n",
        "\n",
        "# Import of a numerical uttility package\n",
        "import numpy as np\n",
        "\n",
        "# Defines the funciton that we are trying to find the max value of, that will act as our ftiness function\n",
        "def fitnessFunction(x, y):\n",
        "    return np.sin(np.sqrt(x ** 2 + y ** 2))\n",
        "\n",
        "# Sets the population size and defines the the boundaries of both variables\n",
        "def intializePopulation(populationSize):\n",
        "  return np.random.uniform(low = - 6, high = 6, size = (populationSize, 2))\n",
        "\n",
        "# This is the Selection step, picking the the two individuals wth the highest fitness values\n",
        "# Implementation: Sorts the array of the fitnessValues in descending order and picks the two members of the population with the highest fitness value to reproduce.\n",
        "def selectParents(population, fitnessValues):\n",
        "  sortedIndices = np.argsort(fitnessValues)[::-1]\n",
        "  return population[sortedIndices[:2]]\n",
        "\n",
        "# This is the Reproduction step, crossing over two parents to create offspring\n",
        "# Implementation: Takes the two parents and finds the average between the two of them, returning that as the offspring\n",
        "def reproduction(parents):\n",
        "  return np.mean(parents, axis = 0)\n",
        "\n",
        "# This is the Mutation step, giving the offspring a chance to mutate and adding more random chance to the mix\n",
        "# Implementation: Adds a change between -0.1 and 0.1 to the individual's genetic material (ie. their x and y values)\n",
        "def mutate(individual):\n",
        "  return individual + np.random.uniform(low = -0.1, high = 0.1, size = 2)\n",
        "\n",
        "# Sets size of population to 4 and the number of generations to 1000\n",
        "populationSize = 4\n",
        "generations = 1000\n",
        "population = intializePopulation(populationSize)\n",
        "bestFitnessValues = []\n",
        "\n",
        "# Iterating through the number of generations previously specified\n",
        "for generation in range(generations):\n",
        "\n",
        "  # Checks the fitness of a given individual, based off their x and y values, the returns the best fitness value and its respective individual\n",
        "  fitnessValues = fitnessFunction(population[:, 0], population[:, 1])\n",
        "  bestFitnessIdx = np.argmax(fitnessValues)\n",
        "  bestIndividual = population[bestFitnessIdx]\n",
        "\n",
        "  # Prints the best individual and their fitness score every 50 generations\n",
        "  if generation % 50 == 0:\n",
        "    print(f\"Generation {generation}: Best Individual = {bestIndividual}, Fitness Score = {fitnessValues[bestFitnessIdx]}\")\n",
        "    bestFitnessValues.append(fitnessValues[bestFitnessIdx])\n",
        "\n",
        "  # Go through the cycle before going back to the checking the fitness\n",
        "  parents = selectParents(population, fitnessValues)\n",
        "  offspring = reproduction(parents)\n",
        "  mutatedOffspring = mutate(offspring)\n",
        "\n",
        "  # Replace the least fit individuals in current population with the original offspring and a mutated version of the offspring\n",
        "  population[2] = offspring\n",
        "  population[3] = mutatedOffspring\n",
        "\n",
        "# Printing out the final results after going through the specified number of generations\n",
        "print(\"Final Result: \")\n",
        "fitnessValues = fitnessFunction(population[:, 0], population[:, 1])\n",
        "bestFitnessIdx = np.argmax(fitnessValues)\n",
        "bestIndividual = population[bestFitnessIdx]\n",
        "\n",
        "# By the end of the 1000 generations, the best individual and their fitness score\n",
        "print(f\"Best Individual = {bestIndividual}, Fitness Score = {fitnessValues[bestFitnessIdx]}\")\n",
        "\n",
        "# Effectiveness: \n",
        "# Since the populoation size is relatively small and the Selection / Reproduction is realtively simple, this implementation can struggle to find the solution within the given space.\n",
        "# This can be improved by increasing the population size and having a more intricate Selection / Reproduciton process."
      ]
    },
    {
      "cell_type": "markdown",
      "metadata": {
        "id": "ua9tbz2WSiDg"
      },
      "source": [
        "Create a visual representation of this data"
      ]
    },
    {
      "cell_type": "code",
      "execution_count": null,
      "metadata": {
        "id": "SKtrMdz2Sxhh"
      },
      "outputs": [],
      "source": [
        "# Code cell 2: Visualize the data using a 2D plot\n",
        "\n",
        "# Import of a data visualization utility package \n",
        "import matplotlib.pyplot as plt\n",
        "\n",
        "# Creates a graph \n",
        "plt.figure()\n",
        "\n",
        "# Allows the x values to go by every 50 generations, like the outputs from the previous cell\n",
        "plt.plot(range(0, generations, 50), bestFitnessValues, marker = 'x')\n",
        "\n",
        "plt.xlabel('Generation')\n",
        "plt.ylabel('Fitness Value')\n",
        "plt.title('Fitness Value over Generations')\n",
        "plt.show()"
      ]
    }
  ],
  "metadata": {
    "colab": {
      "provenance": []
    },
    "kernelspec": {
      "display_name": "Python 3",
      "name": "python3"
    },
    "language_info": {
      "codemirror_mode": {
        "name": "ipython",
        "version": 3
      },
      "file_extension": ".py",
      "mimetype": "text/x-python",
      "name": "python",
      "nbconvert_exporter": "python",
      "pygments_lexer": "ipython3",
      "version": "3.12.2"
    }
  },
  "nbformat": 4,
  "nbformat_minor": 0
}
